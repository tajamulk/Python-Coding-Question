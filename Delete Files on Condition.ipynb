{
 "cells": [
  {
   "cell_type": "markdown",
   "metadata": {},
   "source": [
    "### **Delete Files on Condition**"
   ]
  },
  {
   "cell_type": "code",
   "execution_count": null,
   "metadata": {},
   "outputs": [],
   "source": [
    "# Deleting files on condition based\n",
    "\n",
    "for file in os.listdir(): # First have a dry run \n",
    "    if file.endswith('.txt'):\n",
    "        print(file)\n",
    "\n",
    "for file in os.listdir(): # Then delete files\n",
    "    if file.endswith('.txt'):\n",
    "        os.unlink(file)\n",
    "\n",
    "# Removing file from folder and sub folder\n",
    "for folder, subfolder, file in os.walk(r'c:\\Users\\u487062\\Downloads'):\n",
    "    for f in file:\n",
    "        if f.endswith('.py'):\n",
    "            os.unlink(f)"
   ]
  }
 ],
 "metadata": {
  "language_info": {
   "name": "python"
  }
 },
 "nbformat": 4,
 "nbformat_minor": 2
}
