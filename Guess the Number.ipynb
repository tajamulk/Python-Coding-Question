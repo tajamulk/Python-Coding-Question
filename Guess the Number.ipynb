{
 "cells": [
  {
   "cell_type": "code",
   "execution_count": 4,
   "metadata": {},
   "outputs": [
    {
     "name": "stdout",
     "output_type": "stream",
     "text": [
      "Hi, Tajamul, I am thinking of a number between 1 and 7\n",
      "Do u mind taking a guess\n",
      "Too High\n",
      "Do u mind taking a guess\n",
      "Too High\n",
      "Do u mind taking a guess\n",
      "Too High\n",
      "Do u mind taking a guess\n",
      "Good Job, you got it right in 4 attempts\n"
     ]
    }
   ],
   "source": [
    "import random\n",
    "\n",
    "x = input('Hello, what is your name? ')\n",
    "print('Hi, ' +  x + ', I am thinking of a number between 1 and 7')\n",
    "\n",
    "secret_number = random.randint(1,7)\n",
    "\n",
    "for i in range(1,7):\n",
    "    print('Do u mind taking a guess')\n",
    "    \n",
    "    guess = int(input())\n",
    "    if guess < secret_number:\n",
    "        print('Too Low')\n",
    "    elif guess > secret_number:\n",
    "        print('Too High')\n",
    "    else:\n",
    "        break\n",
    "        \n",
    "if guess == secret_number:\n",
    "    print('Good Job, you got it right in ' + str(i) + ' attempts')\n",
    "else:\n",
    "    print('Exceeded guess limits, My guess number was ' + str(secret_number))"
   ]
  }
 ],
 "metadata": {
  "kernelspec": {
   "display_name": "Python 3",
   "language": "python",
   "name": "python3"
  },
  "language_info": {
   "codemirror_mode": {
    "name": "ipython",
    "version": 3
   },
   "file_extension": ".py",
   "mimetype": "text/x-python",
   "name": "python",
   "nbconvert_exporter": "python",
   "pygments_lexer": "ipython3",
   "version": "3.12.3"
  }
 },
 "nbformat": 4,
 "nbformat_minor": 2
}
