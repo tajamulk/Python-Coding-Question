{
 "cells": [
  {
   "cell_type": "markdown",
   "metadata": {},
   "source": [
    "### **Extract Unique Words from Text**"
   ]
  },
  {
   "cell_type": "code",
   "execution_count": 4,
   "metadata": {},
   "outputs": [
    {
     "name": "stdout",
     "output_type": "stream",
     "text": [
      "{'so', 'much', 'it', 'meet', 'shame', 'never', 'in', \"they'll\", 'lines', 'common', 'a', 'have', 'Parallel', 'is'}\n",
      "Total Unique Words are: 14\n"
     ]
    }
   ],
   "source": [
    "text = \"Parallel lines have so much in common it is a shame they'll never meet\"\n",
    "words = text.split()\n",
    "\n",
    "# convert list of words to set to get unique words\n",
    "\n",
    "unique_words=set(words)\n",
    "print(unique_words)\n",
    "print(\"Total Unique Words are:\", len(unique_words))"
   ]
  }
 ],
 "metadata": {
  "kernelspec": {
   "display_name": "Python 3 (ipykernel)",
   "language": "python",
   "name": "python3"
  },
  "language_info": {
   "codemirror_mode": {
    "name": "ipython",
    "version": 3
   },
   "file_extension": ".py",
   "mimetype": "text/x-python",
   "name": "python",
   "nbconvert_exporter": "python",
   "pygments_lexer": "ipython3",
   "version": "3.12.1"
  }
 },
 "nbformat": 4,
 "nbformat_minor": 2
}
