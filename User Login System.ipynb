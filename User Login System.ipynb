{
 "cells": [
  {
   "cell_type": "markdown",
   "metadata": {},
   "source": [
    "### **User Login System**"
   ]
  },
  {
   "cell_type": "code",
   "execution_count": null,
   "metadata": {},
   "outputs": [],
   "source": [
    "# Function to login a user\n",
    "\n",
    "user_credentials = {}\n",
    "\n",
    "# Function to register a new user\n",
    "def register_user(username, password):\n",
    "    if username in user_credentials:\n",
    "        print(\"Username already exists. Please choose a different username.\")\n",
    "    else:\n",
    "        user_credentials[username] = password\n",
    "        print(\"User registered successfully!\")\n",
    "\n",
    "# Function to login a user\n",
    "def login_user(username, password):\n",
    "    if username in user_credentials and user_credentials[username] == password:\n",
    "        print(\"Login successful!\")\n",
    "    else:\n",
    "        print(\"Invalid username or password.\")"
   ]
  }
 ],
 "metadata": {
  "kernelspec": {
   "display_name": "Python 3 (ipykernel)",
   "language": "python",
   "name": "python3"
  },
  "language_info": {
   "codemirror_mode": {
    "name": "ipython",
    "version": 3
   },
   "file_extension": ".py",
   "mimetype": "text/x-python",
   "name": "python",
   "nbconvert_exporter": "python",
   "pygments_lexer": "ipython3",
   "version": "3.12.1"
  }
 },
 "nbformat": 4,
 "nbformat_minor": 2
}
