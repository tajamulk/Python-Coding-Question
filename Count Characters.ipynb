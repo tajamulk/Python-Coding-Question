{
 "cells": [
  {
   "cell_type": "markdown",
   "metadata": {},
   "source": [
    "### **Counting Characters with Multiple Methods**"
   ]
  },
  {
   "cell_type": "code",
   "execution_count": 1,
   "metadata": {},
   "outputs": [
    {
     "name": "stdout",
     "output_type": "stream",
     "text": [
      "{' ': 3, 'a': 2, 'b': 1, 'e': 1, 'f': 1, 'g': 1, 'h': 1, 'i': 1, 'n': 1, 't': 1}\n",
      "{'a': 2, ' ': 3, 'b': 1, 'i': 1, 'g': 1, 'f': 1, 't': 1, 'h': 1, 'e': 1, 'n': 1}\n"
     ]
    }
   ],
   "source": [
    "# Using for loop\n",
    "import pprint  #The pprint module's pprint() \"pretty print\" function can display a dictionary value cleanly\n",
    "\n",
    "m = 'a big fat hen'\n",
    "\n",
    "dict = {}\n",
    "\n",
    "for character in m:\n",
    "    dict.setdefault(character, 0)\n",
    "    dict[character] += 1\n",
    "\n",
    "pprint.pprint(dict)\n",
    "print(dict)"
   ]
  },
  {
   "cell_type": "code",
   "execution_count": 2,
   "metadata": {},
   "outputs": [],
   "source": [
    "# For Loop Counter\n",
    "m = 'a big fat hen'\n",
    "dict = {}\n",
    "\n",
    "for character in m:\n",
    "    if character in dict:\n",
    "        dict[character] += 1\n",
    "    else:\n",
    "        dict[character] = 1"
   ]
  },
  {
   "cell_type": "code",
   "execution_count": 3,
   "metadata": {},
   "outputs": [
    {
     "name": "stdout",
     "output_type": "stream",
     "text": [
      "Counter({' ': 3, 'a': 2, 'b': 1, 'i': 1, 'g': 1, 'f': 1, 't': 1, 'h': 1, 'e': 1, 'n': 1})\n"
     ]
    }
   ],
   "source": [
    "# Using Counter for Strings, Lists, Tuples - Easy\n",
    "from collections import Counter\n",
    "m = 'a big fat hen'\n",
    "\n",
    "countm = Counter(m)\n",
    "print(countm)"
   ]
  }
 ],
 "metadata": {
  "kernelspec": {
   "display_name": "Python 3 (ipykernel)",
   "language": "python",
   "name": "python3"
  },
  "language_info": {
   "codemirror_mode": {
    "name": "ipython",
    "version": 3
   },
   "file_extension": ".py",
   "mimetype": "text/x-python",
   "name": "python",
   "nbconvert_exporter": "python",
   "pygments_lexer": "ipython3",
   "version": "3.12.1"
  }
 },
 "nbformat": 4,
 "nbformat_minor": 2
}
