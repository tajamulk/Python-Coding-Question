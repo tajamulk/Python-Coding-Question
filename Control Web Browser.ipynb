{
 "cells": [
  {
   "cell_type": "markdown",
   "metadata": {},
   "source": [
    "### **Control Web Browser with Python**"
   ]
  },
  {
   "cell_type": "code",
   "execution_count": null,
   "metadata": {},
   "outputs": [],
   "source": [
    "import webbrowser\n",
    "\n",
    "address = input(\"Please enter the address: \")\n",
    "\n",
    "# Assuming you want to open this address in a web browser\n",
    "webbrowser.open(f'https://www.google.com/maps/place/{address}')\n"
   ]
  }
 ],
 "metadata": {
  "language_info": {
   "name": "python"
  }
 },
 "nbformat": 4,
 "nbformat_minor": 2
}
