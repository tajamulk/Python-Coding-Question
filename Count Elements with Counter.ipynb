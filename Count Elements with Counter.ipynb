{
 "cells": [
  {
   "cell_type": "code",
   "execution_count": 3,
   "metadata": {},
   "outputs": [
    {
     "name": "stdout",
     "output_type": "stream",
     "text": [
      "Counter({'a': 1, 'b': 1, 'z': 1})\n",
      "Counter({'a': 1, 'b': 1, 'c': 1})\n",
      "Counter({' ': 3, 'a': 2, 'b': 1, 'i': 1, 'g': 1, 'f': 1, 't': 1, 'h': 1, 'e': 1, 'n': 1})\n"
     ]
    }
   ],
   "source": [
    "from collections import Counter\n",
    "\n",
    "# Define the data structures\n",
    "l = ('a', 'b', 'z')  # Tuple\n",
    "m = ['a', 'b', 'c']  # List\n",
    "n = \"a big fat hen\"  # String\n",
    "\n",
    "# Count the frequency of elements\n",
    "countl = Counter(l)\n",
    "countm = Counter(m)\n",
    "countn = Counter(n)\n",
    "\n",
    "# Print the results\n",
    "print(countl) \n",
    "print(countm)  \n",
    "print(countn)"
   ]
  }
 ],
 "metadata": {
  "kernelspec": {
   "display_name": "Python 3 (ipykernel)",
   "language": "python",
   "name": "python3"
  },
  "language_info": {
   "codemirror_mode": {
    "name": "ipython",
    "version": 3
   },
   "file_extension": ".py",
   "mimetype": "text/x-python",
   "name": "python",
   "nbconvert_exporter": "python",
   "pygments_lexer": "ipython3",
   "version": "3.12.1"
  }
 },
 "nbformat": 4,
 "nbformat_minor": 2
}
