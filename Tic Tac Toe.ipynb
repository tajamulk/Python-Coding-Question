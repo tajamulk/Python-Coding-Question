{
 "cells": [
  {
   "cell_type": "markdown",
   "metadata": {},
   "source": [
    "### **Tic Tac Toe**"
   ]
  },
  {
   "cell_type": "code",
   "execution_count": 1,
   "metadata": {},
   "outputs": [
    {
     "name": "stdout",
     "output_type": "stream",
     "text": [
      "O|X|O\n",
      "-----\n",
      "O|X|X\n",
      "-----\n",
      "X|O|O\n"
     ]
    }
   ],
   "source": [
    "theboard = {\n",
    "'top-L' : 'O',\n",
    "'top-M' : 'X',\n",
    "'top-R' : 'O',\n",
    "'mid-L' : 'O',\n",
    "'mid-M' : 'X',\n",
    "'mid-R' : 'X',\n",
    "'low-L' : 'X',\n",
    "'low-M' : 'O',\n",
    "'low-R' : 'O'\n",
    "}\n",
    "\n",
    "def printboard(x):\n",
    "    print(x['top-L'] + '|' + x['top-M'] + '|' + x['top-R'])\n",
    "    print('-----')\n",
    "    print(x['mid-L'] + '|' + x['mid-M'] + '|' + x['mid-R'])\n",
    "    print('-----')\n",
    "    print(x['low-L'] + '|' + x['low-M'] + '|' + x['low-R'])\n",
    "\n",
    "printboard(theboard)"
   ]
  }
 ],
 "metadata": {
  "kernelspec": {
   "display_name": "Python 3 (ipykernel)",
   "language": "python",
   "name": "python3"
  },
  "language_info": {
   "codemirror_mode": {
    "name": "ipython",
    "version": 3
   },
   "file_extension": ".py",
   "mimetype": "text/x-python",
   "name": "python",
   "nbconvert_exporter": "python",
   "pygments_lexer": "ipython3",
   "version": "3.12.1"
  }
 },
 "nbformat": 4,
 "nbformat_minor": 2
}
