{
 "cells": [
  {
   "cell_type": "markdown",
   "metadata": {},
   "source": [
    "#### **Leap Year Check**\n",
    "\n",
    "Hint: A year is a leap year if it is divisible by 4 and not divisible by 100, or if it is divisible by 400."
   ]
  },
  {
   "cell_type": "code",
   "execution_count": 9,
   "metadata": {},
   "outputs": [],
   "source": [
    "def leapyearcheck(year):\n",
    "    if (year%4 == 0 and year%100 != 0) or (year%400==0):\n",
    "        print(\"It is a Leap Year\")\n",
    "    else: \n",
    "        print(\"It is not a Leap Year\")"
   ]
  },
  {
   "cell_type": "code",
   "execution_count": 11,
   "metadata": {},
   "outputs": [
    {
     "name": "stdout",
     "output_type": "stream",
     "text": [
      "It is a Leap Year\n"
     ]
    }
   ],
   "source": [
    "leapyearcheck(2024)"
   ]
  }
 ],
 "metadata": {
  "kernelspec": {
   "display_name": "Python 3",
   "language": "python",
   "name": "python3"
  },
  "language_info": {
   "codemirror_mode": {
    "name": "ipython",
    "version": 3
   },
   "file_extension": ".py",
   "mimetype": "text/x-python",
   "name": "python",
   "nbconvert_exporter": "python",
   "pygments_lexer": "ipython3",
   "version": "3.12.3"
  }
 },
 "nbformat": 4,
 "nbformat_minor": 2
}
