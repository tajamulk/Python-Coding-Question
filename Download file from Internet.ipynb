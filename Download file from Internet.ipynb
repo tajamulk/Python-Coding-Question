{
 "cells": [
  {
   "cell_type": "markdown",
   "metadata": {},
   "source": [
    "### **Download Files from Internet**"
   ]
  },
  {
   "cell_type": "code",
   "execution_count": null,
   "metadata": {},
   "outputs": [],
   "source": [
    "import requests\n",
    "\n",
    "# URL of a free and SSL-verified text file\n",
    "url = 'https://www.gutenberg.org/files/84/84-0.txt'\n",
    "\n",
    "# Send a GET request to the URL\n",
    "response = requests.get(url)\n",
    "\n",
    "print(len(response.text))\n",
    "print(response.raise_for_status)  # Resonse 200 means OK, while 404 is error\n",
    "print(response.text[:550])\n",
    "\n",
    "# Saving the above downloaded file\n",
    "\n",
    "downloadfile = open('gutenbergfile', 'wb') #wb = write binary\n",
    "for chunk in response.iter_content(100000):\n",
    "    downloadfile.write(chunk)\n"
   ]
  }
 ],
 "metadata": {
  "language_info": {
   "name": "python"
  }
 },
 "nbformat": 4,
 "nbformat_minor": 2
}
